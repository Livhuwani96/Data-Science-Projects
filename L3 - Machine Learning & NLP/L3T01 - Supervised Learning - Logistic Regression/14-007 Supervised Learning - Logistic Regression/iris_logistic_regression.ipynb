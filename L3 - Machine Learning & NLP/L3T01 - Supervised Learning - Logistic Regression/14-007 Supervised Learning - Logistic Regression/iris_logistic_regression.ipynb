{
 "cells": [
  {
   "cell_type": "markdown",
   "metadata": {},
   "source": [
    "Prepare the Data"
   ]
  },
  {
   "cell_type": "code",
   "execution_count": 1,
   "metadata": {},
   "outputs": [],
   "source": [
    "import pandas as pd\n",
    "\n",
    "# Load the dataset\n",
    "file_path = 'Iris.csv'\n",
    "iris = pd.read_csv(file_path)\n",
    "\n",
    "# Identify independent variables X\n",
    "X = iris[['SepalLengthCm', 'SepalWidthCm', 'PetalLengthCm', 'PetalWidthCm']]\n",
    "\n",
    "# Encode the dependent variable y\n",
    "iris['Species'] = iris['Species'].apply(lambda x: 0 if x == 'Iris-setosa' else 1)\n",
    "y = iris['Species']\n"
   ]
  },
  {
   "cell_type": "markdown",
   "metadata": {},
   "source": [
    "Split the Data"
   ]
  },
  {
   "cell_type": "code",
   "execution_count": 2,
   "metadata": {},
   "outputs": [],
   "source": [
    "from sklearn.model_selection import train_test_split\n",
    "\n",
    "# Split the data into training and test sets\n",
    "X_train, X_test, y_train, y_test = train_test_split(X, y, test_size=0.25, train_size=0.75, random_state=42)\n"
   ]
  },
  {
   "cell_type": "markdown",
   "metadata": {},
   "source": [
    "Fit the Logistic Regression Model"
   ]
  },
  {
   "cell_type": "code",
   "execution_count": 5,
   "metadata": {},
   "outputs": [],
   "source": [
    "from sklearn.linear_model import LogisticRegression\n",
    "\n",
    "# Initialize and fit the logistic regression model\n",
    "model = LogisticRegression()\n",
    "model.fit(X_train, y_train)\n",
    "\n",
    "# Make predictions on the test set\n",
    "y_pred = model.predict(X_test)"
   ]
  },
  {
   "cell_type": "markdown",
   "metadata": {},
   "source": [
    "Evaluate the Model"
   ]
  },
  {
   "cell_type": "code",
   "execution_count": 6,
   "metadata": {},
   "outputs": [
    {
     "name": "stdout",
     "output_type": "stream",
     "text": [
      "Accuracy: 1.0\n",
      "Precision: 1.0\n",
      "Recall: 1.0\n"
     ]
    }
   ],
   "source": [
    "from sklearn.metrics import confusion_matrix\n",
    "\n",
    "# Generate the confusion matrix\n",
    "cm = confusion_matrix(y_test, y_pred)\n",
    "TN, FP, FN, TP = cm.ravel()\n",
    "\n",
    "# Calculate accuracy, precision, and recall manually\n",
    "accuracy = (TP + TN) / (TP + TN + FP + FN)\n",
    "recall = TP / (TP + FN)\n",
    "precision = TP / (TP + FP)\n",
    "\n",
    "print(f'Accuracy: {accuracy}')\n",
    "print(f'Precision: {precision}')\n",
    "print(f'Recall: {recall}')"
   ]
  },
  {
   "cell_type": "markdown",
   "metadata": {},
   "source": [
    "Analyze the Confusion Matrix"
   ]
  },
  {
   "cell_type": "markdown",
   "metadata": {},
   "source": [
    "# Analyze the Confusion Matrix\n",
    "\n",
    "[[19  0]\n",
    " [ 0 26]]\n",
    "\n",
    "From the confusion matrix:\n",
    "\n",
    "True Negatives (TN): 19\n",
    "False Positives (FP): 0\n",
    "False Negatives (FN): 0\n",
    "True Positives (TP): 26\n",
    "\n",
    "Accuracy: 1.0\n",
    "Precision: 1.0\n",
    "Recall: 1.0\n",
    "\n",
    "From the values of precision and recall, we can conclude that the model has perfect precision and recall for this particular test set. This means that the model has neither false positives nor false negatives.\n"
   ]
  },
  {
   "cell_type": "markdown",
   "metadata": {},
   "source": [
    "From the confusion matrix:\n",
    "\n",
    "True Negatives (TN): 19\n",
    "False Positives (FP): 0\n",
    "False Negatives (FN): 0\n",
    "True Positives (TP): 26\n",
    "Accuracy: 1.0\n",
    "Precision: 1.0\n",
    "Recall: 1.0\n",
    "\n",
    "From the values of precision and recall, we can conclude that the model has perfect precision and recall for this particular test set. This means that the model has neither false positives nor false negatives.\n",
    "\n",
    "Summary\n",
    "\n",
    "Independent Variables: SepalLengthCm, SepalWidthCm, PetalLengthCm, PetalWidthCm\n",
    "Dependent Variable: Species (encoded as 0 for Iris-setosa and 1 for not-Iris-setosa)\n",
    "Split: 70% training and 30% test\n",
    "Model: Logistic Regression\n",
    "Evaluation: Confusion matrix, accuracy, precision, recall\n",
    "The logistic regression model performed exceptionally well on the given dataset, with perfect scores in accuracy, precision, and recall.\n",
    "\n",
    "Would you like to save this notebook, or is there anything else you would like to analyze or modify? ​"
   ]
  }
 ],
 "metadata": {
  "kernelspec": {
   "display_name": "base",
   "language": "python",
   "name": "python3"
  },
  "language_info": {
   "codemirror_mode": {
    "name": "ipython",
    "version": 3
   },
   "file_extension": ".py",
   "mimetype": "text/x-python",
   "name": "python",
   "nbconvert_exporter": "python",
   "pygments_lexer": "ipython3",
   "version": "3.12.4"
  }
 },
 "nbformat": 4,
 "nbformat_minor": 2
}
