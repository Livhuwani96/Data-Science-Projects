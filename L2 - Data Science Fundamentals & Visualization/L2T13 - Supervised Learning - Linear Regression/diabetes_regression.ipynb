{
 "cells": [
  {
   "cell_type": "code",
   "execution_count": 6,
   "metadata": {},
   "outputs": [],
   "source": [
    "\n",
    "import pandas as pd\n",
    "from sklearn.model_selection import train_test_split\n",
    "from sklearn.preprocessing import MinMaxScaler, StandardScaler\n",
    "from sklearn.linear_model import LinearRegression\n",
    "from sklearn.metrics import r2_score\n",
    "\n",
    "# Read the CSV file into a DataFrame\n",
    "diabets = pd.read_csv('diabetes_dirty.csv')"
   ]
  },
  {
   "cell_type": "markdown",
   "metadata": {},
   "source": [
    "Differentiate between independent and dependent variables"
   ]
  },
  {
   "cell_type": "code",
   "execution_count": 7,
   "metadata": {},
   "outputs": [],
   "source": [
    "# Independent variables (all columns except 'PROGRESSION')\n",
    "X = diabets = pd.read_csv('diabetes_dirty.csv').drop('PROGRESSION', axis=1)\n",
    "\n",
    "# Dependent variable ('PROGRESSION')\n",
    "Y = diabets = pd.read_csv('diabetes_dirty.csv')['PROGRESSION']\n"
   ]
  },
  {
   "cell_type": "markdown",
   "metadata": {},
   "source": [
    "Generate training and test sets:"
   ]
  },
  {
   "cell_type": "code",
   "execution_count": 8,
   "metadata": {},
   "outputs": [],
   "source": [
    "# Split the data into training and test sets (80% training, 20% test)\n",
    "X_train, X_test, Y_train, Y_test = train_test_split(X, Y, test_size=0.2, random_state=42)\n"
   ]
  },
  {
   "cell_type": "markdown",
   "metadata": {},
   "source": [
    "Investigate the necessity for scaling or normalization:"
   ]
  },
  {
   "cell_type": "code",
   "execution_count": 9,
   "metadata": {},
   "outputs": [],
   "source": [
    "# Initialize the MinMaxScaler and StandardScaler\n",
    "min_max_scaler = MinMaxScaler()\n",
    "standard_scaler = StandardScaler()\n",
    "\n",
    "# Fit the scalers on the training set\n",
    "min_max_scaler.fit(X_train)\n",
    "standard_scaler.fit(X_train)\n",
    "\n",
    "# Apply the fitted scalers to transform both the training and test sets\n",
    "X_train_minmax = min_max_scaler.transform(X_train)\n",
    "X_train_standard = standard_scaler.transform(X_train)\n",
    "\n",
    "X_test_minmax = min_max_scaler.transform(X_test)\n",
    "X_test_standard = standard_scaler.transform(X_test)\n"
   ]
  },
  {
   "cell_type": "markdown",
   "metadata": {},
   "source": [
    "Generate a multiple linear regression model:"
   ]
  },
  {
   "cell_type": "code",
   "execution_count": 10,
   "metadata": {},
   "outputs": [
    {
     "name": "stdout",
     "output_type": "stream",
     "text": [
      "Intercept (MinMax): -25.133227852934937\n",
      "Coefficients (MinMax): [   8.2612689   -23.06446772  135.63561351   84.9935688  -244.80178532\n",
      "  162.87932677   46.32729542   72.03113268  191.18672297   13.3055384 ]\n",
      "R-squared (MinMax): 0.45260276297191926\n",
      "Intercept (Standard): 153.7365439093484\n",
      "Coefficients (Standard): [  1.75375799 -11.51180908  25.60712144  16.82887167 -44.44885564\n",
      "  24.64095356   7.67697768  13.1387839   35.16119521   2.35136365]\n",
      "R-squared (Standard): 0.45260276297191937\n"
     ]
    }
   ],
   "source": [
    "# Using MinMax scaling\n",
    "model_minmax = LinearRegression()\n",
    "model_minmax.fit(X_train_minmax, Y_train)\n",
    "\n",
    "# Print out the intercept and coefficients\n",
    "print(f\"Intercept (MinMax): {model_minmax.intercept_}\")\n",
    "print(f\"Coefficients (MinMax): {model_minmax.coef_}\")\n",
    "\n",
    "# Generate predictions for the test set\n",
    "Y_pred_minmax = model_minmax.predict(X_test_minmax)\n",
    "\n",
    "# Compute R-squared\n",
    "r2_minmax = r2_score(Y_test, Y_pred_minmax)\n",
    "print(f\"R-squared (MinMax): {r2_minmax}\")\n",
    "\n",
    "# Using Standard scaling\n",
    "model_standard = LinearRegression()\n",
    "model_standard.fit(X_train_standard, Y_train)\n",
    "\n",
    "# Print out the intercept and coefficients\n",
    "print(f\"Intercept (Standard): {model_standard.intercept_}\")\n",
    "print(f\"Coefficients (Standard): {model_standard.coef_}\")\n",
    "\n",
    "# Generate predictions for the test set\n",
    "Y_pred_standard = model_standard.predict(X_test_standard)\n",
    "\n",
    "# Compute R-squared\n",
    "r2_standard = r2_score(Y_test, Y_pred_standard)\n",
    "print(f\"R-squared (Standard): {r2_standard}\")\n"
   ]
  },
  {
   "cell_type": "markdown",
   "metadata": {},
   "source": [
    "\n",
    "# The code reads the diabetes_dirty.csv file, separates the independent and dependent variables, and splits the data into training and test sets. It then investigates the necessity for scaling or normalization of the data by employing both MinMaxScaler and StandardScaler. The scalers are fitted on the training set and used to transform both the training and test sets. Two multiple linear regression models are generated using the scaled training sets, and the intercepts and coefficients are printed. Predictions are generated for the test sets, and R-squared is computed to evaluate the performance of the models.\n",
    "\n",
    "# Notes about model outputs such as R-squared:\n",
    "# R-squared is a statistical measure that represents the proportion of the variance for the dependent variable that's explained by the independent variables in a regression model. A higher R-squared value indicates a better fit for the model.\n"
   ]
  }
 ],
 "metadata": {
  "kernelspec": {
   "display_name": "base",
   "language": "python",
   "name": "python3"
  },
  "language_info": {
   "codemirror_mode": {
    "name": "ipython",
    "version": 3
   },
   "file_extension": ".py",
   "mimetype": "text/x-python",
   "name": "python",
   "nbconvert_exporter": "python",
   "pygments_lexer": "ipython3",
   "version": "3.12.4"
  }
 },
 "nbformat": 4,
 "nbformat_minor": 2
}
